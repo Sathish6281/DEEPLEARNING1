{
  "nbformat": 4,
  "nbformat_minor": 0,
  "metadata": {
    "colab": {
      "provenance": [],
      "authorship_tag": "ABX9TyOxeHeCH+a2JH/1Bi4tlMYr",
      "include_colab_link": true
    },
    "kernelspec": {
      "name": "python3",
      "display_name": "Python 3"
    },
    "language_info": {
      "name": "python"
    }
  },
  "cells": [
    {
      "cell_type": "markdown",
      "metadata": {
        "id": "view-in-github",
        "colab_type": "text"
      },
      "source": [
        "<a href=\"https://colab.research.google.com/github/Sathish6281/DEEPLEARNING1/blob/main/EXP3.ipynb\" target=\"_parent\"><img src=\"https://colab.research.google.com/assets/colab-badge.svg\" alt=\"Open In Colab\"/></a>"
      ]
    },
    {
      "cell_type": "code",
      "execution_count": null,
      "metadata": {
        "colab": {
          "base_uri": "https://localhost:8080/"
        },
        "id": "NhPz8k8Jve6A",
        "outputId": "367e2b28-92cb-4f82-e49d-3ed0495d1796"
      },
      "outputs": [
        {
          "output_type": "stream",
          "name": "stdout",
          "text": [
            "Epoch 1/10\n",
            "20/20 [==============================] - 3s 39ms/step - loss: 0.7132 - accuracy: 0.4500 - val_loss: 0.6981 - val_accuracy: 0.4062\n",
            "Epoch 2/10\n",
            "20/20 [==============================] - 0s 18ms/step - loss: 0.6869 - accuracy: 0.5156 - val_loss: 0.6656 - val_accuracy: 0.6250\n",
            "Epoch 3/10\n",
            "20/20 [==============================] - 0s 20ms/step - loss: 0.6668 - accuracy: 0.5562 - val_loss: 0.6419 - val_accuracy: 0.6250\n",
            "Epoch 4/10\n",
            "20/20 [==============================] - 0s 15ms/step - loss: 0.6483 - accuracy: 0.6078 - val_loss: 0.6228 - val_accuracy: 0.6750\n",
            "Epoch 5/10\n",
            "20/20 [==============================] - 0s 17ms/step - loss: 0.6291 - accuracy: 0.6703 - val_loss: 0.6036 - val_accuracy: 0.7063\n",
            "Epoch 6/10\n",
            "20/20 [==============================] - 0s 23ms/step - loss: 0.6095 - accuracy: 0.6859 - val_loss: 0.5820 - val_accuracy: 0.7250\n",
            "Epoch 7/10\n",
            "20/20 [==============================] - 0s 20ms/step - loss: 0.5880 - accuracy: 0.7375 - val_loss: 0.5623 - val_accuracy: 0.7812\n",
            "Epoch 8/10\n",
            "20/20 [==============================] - 0s 17ms/step - loss: 0.5653 - accuracy: 0.7844 - val_loss: 0.5383 - val_accuracy: 0.8000\n",
            "Epoch 9/10\n",
            "20/20 [==============================] - 0s 16ms/step - loss: 0.5410 - accuracy: 0.8188 - val_loss: 0.5167 - val_accuracy: 0.8687\n",
            "Epoch 10/10\n",
            "20/20 [==============================] - 0s 22ms/step - loss: 0.5165 - accuracy: 0.8438 - val_loss: 0.4912 - val_accuracy: 0.8687\n",
            "7/7 [==============================] - 1s 7ms/step\n",
            "Test accuracy: 0.8150\n"
          ]
        }
      ],
      "source": [
        "import numpy as np\n",
        "import tensorflow as tf\n",
        "from tensorflow.keras.models import Sequential\n",
        "from tensorflow.keras.layers import Dense,Input\n",
        "from sklearn.model_selection import train_test_split\n",
        "from sklearn.metrics import accuracy_score\n",
        "np.random.seed(42)\n",
        "X = np.random.rand(1000, 2)\n",
        "y = (X[:, 0] + X[:, 1] > 1).astype(int)\n",
        "X_train, X_test, y_train, y_test = train_test_split(X, y, test_size=0.2,\n",
        "random_state=42)\n",
        "model = Sequential([Input(shape=(2)),Dense(64, activation='relu'),Dense(1,\n",
        "activation='sigmoid')])\n",
        "model.compile(optimizer='adam',loss='binary_crossentropy',metrics=['accuracy'])\n",
        "model.fit(X_train, y_train, epochs=10, batch_size=32, validation_split=0.2)\n",
        "y_pred = model.predict(X_test)\n",
        "y_pred_binary = (y_pred > 0.5).astype(int)\n",
        "test_accuracy = accuracy_score(y_test, y_pred_binary)\n",
        "print(f\"Test accuracy: {test_accuracy:.4f}\")"
      ]
    }
  ]
}