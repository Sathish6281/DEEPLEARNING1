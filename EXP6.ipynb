{
  "nbformat": 4,
  "nbformat_minor": 0,
  "metadata": {
    "colab": {
      "provenance": [],
      "authorship_tag": "ABX9TyPI4JQ5lj+DQO78u9DkAQ56",
      "include_colab_link": true
    },
    "kernelspec": {
      "name": "python3",
      "display_name": "Python 3"
    },
    "language_info": {
      "name": "python"
    }
  },
  "cells": [
    {
      "cell_type": "markdown",
      "metadata": {
        "id": "view-in-github",
        "colab_type": "text"
      },
      "source": [
        "<a href=\"https://colab.research.google.com/github/Sathish6281/DEEPLEARNING1/blob/main/EXP6.ipynb\" target=\"_parent\"><img src=\"https://colab.research.google.com/assets/colab-badge.svg\" alt=\"Open In Colab\"/></a>"
      ]
    },
    {
      "cell_type": "code",
      "execution_count": 1,
      "metadata": {
        "colab": {
          "base_uri": "https://localhost:8080/"
        },
        "id": "AQ1c1g7CxriD",
        "outputId": "30da2d6b-2320-4584-bf04-c99adcf66c2a"
      },
      "outputs": [
        {
          "output_type": "stream",
          "name": "stdout",
          "text": [
            "Epoch 1/10\n",
            "4/4 [==============================] - 4s 15ms/step - loss: 1.0282\n",
            "Epoch 2/10\n",
            "4/4 [==============================] - 0s 13ms/step - loss: 0.9671\n",
            "Epoch 3/10\n",
            "4/4 [==============================] - 0s 15ms/step - loss: 0.9358\n",
            "Epoch 4/10\n",
            "4/4 [==============================] - 0s 10ms/step - loss: 0.9074\n",
            "Epoch 5/10\n",
            "4/4 [==============================] - 0s 10ms/step - loss: 0.8881\n",
            "Epoch 6/10\n",
            "4/4 [==============================] - 0s 9ms/step - loss: 0.8762\n",
            "Epoch 7/10\n",
            "4/4 [==============================] - 0s 10ms/step - loss: 0.8661\n",
            "Epoch 8/10\n",
            "4/4 [==============================] - 0s 8ms/step - loss: 0.8599\n",
            "Epoch 9/10\n",
            "4/4 [==============================] - 0s 7ms/step - loss: 0.8542\n",
            "Epoch 10/10\n",
            "4/4 [==============================] - 0s 6ms/step - loss: 0.8579\n",
            "1/1 [==============================] - 0s 309ms/step - loss: 0.3228\n"
          ]
        },
        {
          "output_type": "execute_result",
          "data": {
            "text/plain": [
              "0.322803795337677"
            ]
          },
          "metadata": {},
          "execution_count": 1
        }
      ],
      "source": [
        "import tensorflow as tf\n",
        "from tensorflow import keras\n",
        "input_shape = (10, 1)\n",
        "model = keras.Sequential([\n",
        "    keras.layers.SimpleRNN(32, input_shape=input_shape),\n",
        "    keras.layers.Dense(1)\n",
        "])\n",
        "model.compile(optimizer='adam', loss='mse')\n",
        "import numpy as np\n",
        "\n",
        "X_train = np.random.randn(100, 10, 1)\n",
        "y_train = np.random.randn(100, 1)\n",
        "\n",
        "model.fit(X_train, y_train, epochs=10, batch_size=32)\n",
        "X_test = np.random.randn(10, 10, 1)\n",
        "y_test = np.random.randn(10, 1)\n",
        "\n",
        "model.evaluate(X_test, y_test)\n"
      ]
    }
  ]
}