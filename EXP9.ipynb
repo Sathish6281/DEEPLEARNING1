{
  "nbformat": 4,
  "nbformat_minor": 0,
  "metadata": {
    "colab": {
      "provenance": [],
      "authorship_tag": "ABX9TyNGcassHOH37+EjqZIS0u8Z",
      "include_colab_link": true
    },
    "kernelspec": {
      "name": "python3",
      "display_name": "Python 3"
    },
    "language_info": {
      "name": "python"
    }
  },
  "cells": [
    {
      "cell_type": "markdown",
      "metadata": {
        "id": "view-in-github",
        "colab_type": "text"
      },
      "source": [
        "<a href=\"https://colab.research.google.com/github/Sathish6281/DEEPLEARNING1/blob/main/EXP9.ipynb\" target=\"_parent\"><img src=\"https://colab.research.google.com/assets/colab-badge.svg\" alt=\"Open In Colab\"/></a>"
      ]
    },
    {
      "cell_type": "code",
      "execution_count": 1,
      "metadata": {
        "colab": {
          "base_uri": "https://localhost:8080/"
        },
        "id": "wrcB-rcNy6zs",
        "outputId": "ad0495ce-56ee-42e7-fb1e-a490add1b9d9"
      },
      "outputs": [
        {
          "output_type": "stream",
          "name": "stdout",
          "text": [
            "Downloading data from https://storage.googleapis.com/tensorflow/tf-keras-datasets/mnist.npz\n",
            "11490434/11490434 [==============================] - 1s 0us/step\n",
            "Epoch 1/10\n",
            "300/300 - 50s - loss: 0.3771 - accuracy: 0.8852 - val_loss: 0.0751 - val_accuracy: 0.9766 - 50s/epoch - 165ms/step\n",
            "Epoch 2/10\n",
            "300/300 - 43s - loss: 0.1162 - accuracy: 0.9660 - val_loss: 0.0524 - val_accuracy: 0.9831 - 43s/epoch - 144ms/step\n",
            "Epoch 3/10\n",
            "300/300 - 43s - loss: 0.0870 - accuracy: 0.9744 - val_loss: 0.0405 - val_accuracy: 0.9863 - 43s/epoch - 144ms/step\n",
            "Epoch 4/10\n",
            "300/300 - 43s - loss: 0.0671 - accuracy: 0.9805 - val_loss: 0.0332 - val_accuracy: 0.9880 - 43s/epoch - 144ms/step\n",
            "Epoch 5/10\n",
            "300/300 - 45s - loss: 0.0588 - accuracy: 0.9820 - val_loss: 0.0338 - val_accuracy: 0.9885 - 45s/epoch - 150ms/step\n",
            "Epoch 6/10\n",
            "300/300 - 43s - loss: 0.0517 - accuracy: 0.9840 - val_loss: 0.0309 - val_accuracy: 0.9891 - 43s/epoch - 143ms/step\n",
            "Epoch 7/10\n",
            "300/300 - 43s - loss: 0.0474 - accuracy: 0.9856 - val_loss: 0.0280 - val_accuracy: 0.9906 - 43s/epoch - 145ms/step\n",
            "Epoch 8/10\n",
            "300/300 - 45s - loss: 0.0407 - accuracy: 0.9879 - val_loss: 0.0267 - val_accuracy: 0.9909 - 45s/epoch - 151ms/step\n",
            "Epoch 9/10\n",
            "300/300 - 43s - loss: 0.0407 - accuracy: 0.9874 - val_loss: 0.0271 - val_accuracy: 0.9916 - 43s/epoch - 143ms/step\n",
            "Epoch 10/10\n",
            "300/300 - 43s - loss: 0.0348 - accuracy: 0.9893 - val_loss: 0.0267 - val_accuracy: 0.9915 - 43s/epoch - 144ms/step\n",
            "Test accuracy: 99.15%\n"
          ]
        }
      ],
      "source": [
        "import tensorflow as tf\n",
        "from tensorflow.keras.datasets import mnist\n",
        "from tensorflow.keras.models import Sequential\n",
        "from tensorflow.keras.layers import Conv2D, MaxPooling2D, Flatten, Dense, Dropout\n",
        "from tensorflow.keras.utils import to_categorical\n",
        "# Load and preprocess the dataset\n",
        "(x_train, y_train), (x_test, y_test) = mnist.load_data()\n",
        "x_train = x_train.reshape(x_train.shape[0], 28, 28, 1).astype('float32') / 255\n",
        "x_test = x_test.reshape(x_test.shape[0], 28, 28, 1).astype('float32') / 255\n",
        "y_train = to_categorical(y_train, 10)\n",
        "y_test = to_categorical(y_test, 10)\n",
        "# Build the CNN model\n",
        "model = Sequential()\n",
        "model.add(Conv2D(32, kernel_size=(3, 3), activation='relu',\n",
        "input_shape=(28, 28, 1)))\n",
        "model.add(MaxPooling2D(pool_size=(2, 2)))\n",
        "model.add(Conv2D(64, kernel_size=(3, 3), activation='relu'))\n",
        "model.add(MaxPooling2D(pool_size=(2, 2)))\n",
        "model.add(Flatten())\n",
        "model.add(Dense(128, activation='relu'))\n",
        "model.add(Dropout(0.5))\n",
        "model.add(Dense(10, activation='softmax'))\n",
        "# Compile the model\n",
        "model.compile(loss='categorical_crossentropy', optimizer='adam',\n",
        "metrics=['accuracy'])\n",
        "# Train the model\n",
        "model.fit(x_train, y_train, validation_data=(x_test, y_test), epochs=10,\n",
        "batch_size=200, verbose=2)\n",
        "# Evaluate the model\n",
        "test_loss, test_acc = model.evaluate(x_test, y_test, verbose=0)\n",
        "print(f'Test accuracy: {test_acc*100:.2f}%')\n"
      ]
    }
  ]
}